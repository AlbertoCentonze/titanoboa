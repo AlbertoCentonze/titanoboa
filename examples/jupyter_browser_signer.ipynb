{
 "cells": [
  {
   "metadata": {},
   "cell_type": "markdown",
   "source": [
    "Before being able to use the plugin, you need to install it. You can do this by running the following command:\n",
    "```bash\n",
    "jupyter lab extension enable boa\n",
    "```\n",
    "\n",
    "We provide a multi-user setup with JupyterLab in [try.vyperlang.org](https://try.vyperlang.org/).\n",
    "The source code for this website is available in [GitHub](https://github.com/vyperlang/try.vyperlang.org).\n",
    "\n",
    "It is also possible to run our plugin in [Google Colab](https://colab.research.google.com/).\n",
    "To do this, you need to install the plugin by running the following commands:\n",
    "```jupyter\n",
    "!pip install git+https://github.com/vyperlang/titanoboa\n",
    "%load_ext boa.ipython\n",
    "```"
   ],
   "id": "1eb33cb4f02a9a6c"
  },
  {
   "cell_type": "code",
   "execution_count": 1,
   "id": "94744db8",
   "metadata": {},
   "outputs": [],
   "source": "import boa"
  },
  {
   "cell_type": "code",
   "execution_count": 4,
   "id": "814ff4f3",
   "metadata": {},
   "outputs": [],
   "source": "boa.set_browser_env()  # this will use the browser signer and the browser RPC"
  },
  {
   "cell_type": "code",
   "execution_count": 6,
   "id": "1e98969d",
   "metadata": {},
   "outputs": [
    {
     "data": {
      "text/plain": [
       "<boa.vyper.contract.VyperDeployer at 0x7f5150614a90>"
      ]
     },
     "execution_count": 6,
     "metadata": {},
     "output_type": "execute_result"
    }
   ],
   "source": [
    "%%vyper MyContract\n",
    "\n",
    "totalSupply: uint256\n",
    "balances: HashMap[address, uint256]\n",
    "\n",
    "@external\n",
    "def __init__(t: uint256):\n",
    "    self.totalSupply = t\n",
    "    self.balances[self] = t"
   ]
  },
  {
   "cell_type": "code",
   "execution_count": 7,
   "id": "c5b60ed3",
   "metadata": {},
   "outputs": [
    {
     "name": "stdout",
     "output_type": "stream",
     "text": [
      "tx broadcasted: 0x...<truncated>\n",
      "0x...<truncated> mined in block 0x...<truncated>!\n",
      "contract deployed at 0x...<truncated>\n"
     ]
    }
   ],
   "source": [
    "c = MyContract.deploy(1000)"
   ]
  },
  {
   "cell_type": "code",
   "execution_count": 8,
   "id": "bdbfc09c",
   "metadata": {},
   "outputs": [
    {
     "data": {
      "text/plain": [
       "<MyContract at 0x...<truncated>, compiled with vyper-0.3.9+66b9670>\n",
       "<storage: totalSupply=1000, balances={'0x...<truncated>': 1000}>"
      ]
     },
     "execution_count": 8,
     "metadata": {},
     "output_type": "execute_result"
    }
   ],
   "source": [
    "c"
   ]
  }
 ],
 "metadata": {
  "kernelspec": {
   "display_name": "Python 3 (ipykernel)",
   "language": "python",
   "name": "python3"
  },
  "language_info": {
   "codemirror_mode": {
    "name": "ipython",
    "version": 3
   },
   "file_extension": ".py",
   "mimetype": "text/x-python",
   "name": "python",
   "nbconvert_exporter": "python",
   "pygments_lexer": "ipython3",
   "version": "3.11.4"
  }
 },
 "nbformat": 4,
 "nbformat_minor": 5
}
